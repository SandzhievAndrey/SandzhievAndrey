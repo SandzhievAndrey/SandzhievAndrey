{
  "nbformat": 4,
  "nbformat_minor": 0,
  "metadata": {
    "colab": {
      "name": "Задание #0.ipynb",
      "provenance": [],
      "collapsed_sections": [],
      "toc_visible": true,
      "include_colab_link": true
    },
    "kernelspec": {
      "name": "python3",
      "display_name": "Python 3"
    },
    "language_info": {
      "name": "python"
    }
  },
  "cells": [
    {
      "cell_type": "markdown",
      "metadata": {
        "id": "view-in-github",
        "colab_type": "text"
      },
      "source": [
        "<a href=\"https://colab.research.google.com/github/SandzhievAndrey/SandzhievAndrey/blob/main/%D0%97%D0%B0%D0%B4%D0%B0%D0%BD%D0%B8%D0%B5_0.ipynb\" target=\"_parent\"><img src=\"https://colab.research.google.com/assets/colab-badge.svg\" alt=\"Open In Colab\"/></a>"
      ]
    },
    {
      "cell_type": "markdown",
      "metadata": {
        "id": "Z0I-IEE0ohyt"
      },
      "source": [
        "### Настройка Airflow\n",
        "\n",
        "Для начала вам необходимо выполнить ряд команд чтобы настроить окружение для дальнейшей работы, это позволит первое время не заниматься настройкой среды исполнения, а сразу начать писать код и работать с Airflow."
      ]
    },
    {
      "cell_type": "code",
      "metadata": {
        "id": "0unBvZMyx5H-"
      },
      "source": [
        "# Установка Airflow\n",
        "!pip install apache-airflow==2.1.4\n",
        "!pip install wtforms==2.3.3\n",
        "\n",
        "# Инициализация базы данных\n",
        "!airflow db init"
      ],
      "execution_count": null,
      "outputs": []
    },
    {
      "cell_type": "code",
      "metadata": {
        "id": "Ri_LIxa4z08a"
      },
      "source": [
        "# Создадим необходимые папки\n",
        "!mkdir /root/airflow/dags\n",
        "!touch /root/airflow/dags/dag.py"
      ],
      "execution_count": null,
      "outputs": []
    },
    {
      "cell_type": "code",
      "metadata": {
        "id": "Qx1Jfp2O0CBP"
      },
      "source": [
        "# Включим веб-сервер\n",
        "!airflow webserver -p 18273 -D"
      ],
      "execution_count": null,
      "outputs": []
    },
    {
      "cell_type": "code",
      "metadata": {
        "id": "6AicRo890Iyp"
      },
      "source": [
        "# Создадим пользователя Airflow\n",
        "!airflow users create \\\n",
        "          --username admin \\\n",
        "          --firstname admin \\\n",
        "          --lastname admin \\\n",
        "          --role Admin \\\n",
        "          --email admin@example.org \\\n",
        "          -p 12345"
      ],
      "execution_count": null,
      "outputs": []
    },
    {
      "cell_type": "markdown",
      "metadata": {
        "id": "QZDvtrO63ntq"
      },
      "source": [
        "Поместите в dag.py следующий код.\n",
        "\n",
        "```python\n",
        "from airflow import DAG\n",
        "from datetime import timedelta\n",
        "from airflow.utils.dates import days_ago\n",
        "from airflow.operators.dummy_operator import DummyOperator\n",
        "\n",
        "dag = DAG('dag',schedule_interval=timedelta(days=1), start_date=days_ago(1))\n",
        "t1 = DummyOperator(task_id='task_1', dag=dag)\n",
        "t2 = DummyOperator(task_id='task_2',dag=dag)\n",
        "t3 = DummyOperator(task_id='task_3',dag=dag)\n",
        "t4 = DummyOperator(task_id='task_4',dag=dag)\n",
        "t5 = DummyOperator(task_id='task_5',dag=dag)\n",
        "t6 = DummyOperator(task_id='task_6',dag=dag)\n",
        "t7 = DummyOperator(task_id='task_7',dag=dag)\n",
        "```"
      ]
    },
    {
      "cell_type": "code",
      "metadata": {
        "id": "kXlUN86A3m1o",
        "colab": {
          "base_uri": "https://localhost:8080/"
        },
        "outputId": "e42a1797-13ad-45f1-814f-15f9d0f90c81"
      },
      "source": [
        "# Запуск шедулера\n",
        "!airflow scheduler -D"
      ],
      "execution_count": null,
      "outputs": [
        {
          "output_type": "stream",
          "name": "stdout",
          "text": [
            "  ____________       _____________\n",
            " ____    |__( )_________  __/__  /________      __\n",
            "____  /| |_  /__  ___/_  /_ __  /_  __ \\_ | /| / /\n",
            "___  ___ |  / _  /   _  __/ _  / / /_/ /_ |/ |/ /\n",
            " _/_/  |_/_/  /_/    /_/    /_/  \\____/____/|__/\n"
          ]
        }
      ]
    },
    {
      "cell_type": "code",
      "metadata": {
        "id": "A7jJGmYR3nGP"
      },
      "source": [
        "# Последующие команды не имеют отношения к Airflow\n",
        "# Они нужни только для корректной работы веб морды\n",
        "# в среде Google Colab\n",
        "\n",
        "!pip install pyngrok\n",
        "!ngrok authtoken <YOUR TOKEN> # найти его можно https://dashboard.ngrok.com/get-started/setup \n",
        "\n",
        "# Эта команда просто отображет веб морду на другой адрес\n",
        "# Его вы можете найти https://dashboard.ngrok.com/endpoints/status\n",
        "# При каждом отключении ссылка будет меняться\n",
        "!nohup ngrok http -log=stdout 18273 > /dev/null &"
      ],
      "execution_count": null,
      "outputs": []
    },
    {
      "cell_type": "markdown",
      "metadata": {
        "id": "6sbOlBAm4fUp"
      },
      "source": [
        "После запуска команды выше, перейдите по адресу в ngrok и подождите  пока появится DAG с именем dag"
      ]
    },
    {
      "cell_type": "markdown",
      "metadata": {
        "id": "yah1mva1eYMK"
      },
      "source": [
        "### Задачи"
      ]
    },
    {
      "cell_type": "code",
      "source": [
        "# Используйте данный шаблон для решения\n",
        "from airflow import DAG\n",
        "from datetime import timedelta\n",
        "from airflow.utils.dates import days_ago\n",
        "from airflow.operators.python import PythonOperator\n",
        "from airflow.exceptions import AirflowSkipException, AirflowFailException\n",
        "\n",
        "dag = DAG('dag',\n",
        "          schedule_interval=timedelta(days=1), \n",
        "          start_date=days_ago(1))\n",
        "\n",
        "\n",
        "# Функция которая всегда верна\n",
        "def success():\n",
        "  pass\n",
        "\n",
        "# Функция которая скипает задачу\n",
        "def skip():\n",
        "  raise AirflowSkipException\n",
        "\n",
        "# Функция которая падает с ошибкой\n",
        "def failed():\n",
        "  raise AirflowFailException\n",
        "\n",
        "task_0 = PythonOperator(\n",
        "  task_id='task_0',\n",
        "  python_callable=success,\n",
        "  dag=dag\n",
        ")\n",
        "\n",
        "task_1 = PythonOperator(\n",
        "  task_id='task_1',\n",
        "  python_callable=skip,\n",
        "  dag=dag\n",
        ")\n",
        "\n",
        "task_2 = PythonOperator(\n",
        "  task_id='task_2',\n",
        "  python_callable=failed,\n",
        "  dag=dag\n",
        ")\n",
        "\n",
        "task_3 = PythonOperator(\n",
        "  task_id='task_3',\n",
        "  trigger_rule=<ВАШ КОД>',\n",
        "  python_callable=lambda: print(\"Success\"),\n",
        "  dag=dag\n",
        ")\n",
        "\n",
        "[task_0, task_1, task_2] >> task_3\n",
        "\n",
        "\n",
        "\n",
        "task_4 = PythonOperator(\n",
        "  task_id='task_4',\n",
        "  python_callable=success,\n",
        "  dag=dag\n",
        ")\n",
        "\n",
        "task_5 = PythonOperator(\n",
        "  task_id='task_5',\n",
        "  python_callable=failed,\n",
        "  dag=dag\n",
        ")\n",
        "\n",
        "task_6 = PythonOperator(\n",
        "  task_id='task_6',\n",
        "  python_callable=failed,\n",
        "  dag=dag\n",
        ")\n",
        "\n",
        "task_7 = PythonOperator(\n",
        "  task_id='task_7',\n",
        "  python_callable=lambda: print(\"Success\"),\n",
        "  trigger_rule=<ВАШ КОД>,\n",
        "  dag=dag\n",
        ")\n",
        "\n",
        "[task_4, task_5,task_6] >> task_7"
      ],
      "metadata": {
        "id": "MFYANPhYDZxe"
      },
      "execution_count": null,
      "outputs": []
    },
    {
      "cell_type": "code",
      "metadata": {
        "id": "s97wnDa4m_pT"
      },
      "source": [
        "# Решение на разработку"
      ],
      "execution_count": null,
      "outputs": []
    },
    {
      "cell_type": "markdown",
      "metadata": {
        "id": "2nHwpj2ikn7r"
      },
      "source": [
        "Даг нужно написать в файл /root/airflow/dags/dag.py. Проверку можно сделать в веб интерфейсе. Прежде чем даг появится, может пройти ~ 2-3 минут."
      ]
    }
  ]
}